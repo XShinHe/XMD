{
 "cells": [
  {
   "cell_type": "markdown",
   "metadata": {},
   "source": [
    "<h1 style=\"text-align:center\"><font face=\"Times Roman\" size=8>XMD ver-0.1</font></h1> \n",
    "***\n",
    "<h4 style=\"text-align:right\"><font face=\"Times Roman\">Author &nbsp;XShinHe<br><1500011805@pku.edu.cn></font> </h2>\n",
    "<h2 style=\"text-align:left\"><font face=\"Times Roman\"> It is a molecular dynamics procedure of MD/PIMD, PILD simulation. </font></h2>\n",
    "Latest update on 2018.7\n",
    "***"
   ]
  },
  {
   "cell_type": "markdown",
   "metadata": {},
   "source": [
    "## 1. Compile and usage\n",
    "* compile: by `make` command in each subdirectory, default using `gfortran` compiler, it will generate `pimd` executable file (for convenience, we alias it as __main__)  \n",
    "__`make clean`__:  \n",
    "clean the compile temporary files.  \n",
    "__`make sweep all`__:  \n",
    "clean all temporary files, executable files and simulation files.  \n",
    "* usage:  \n",
    "__`main [-arg1 arg2]`__  \n",
    "note arg1 and arg2 should be pairs. The detailed choise see as following:  \n",
    "```shell\n",
    "\t\tmain -h  h    # show the help information \n",
    "\t\tmain -x  n    # run n-th trajectory                    need xmd.rst or not\n",
    "\t\tmain -x  e    # run equilibrium                        need nothing\n",
    "\t\tmain -x  r    # run a restart trajectory               need xmd.rst\n",
    "\t\tmain -x  s    # run from a sampling file               need xmd.smp(default)\n",
    "\t\tmain -x  l    # run from a filename list               need xmd.lst(default)\n",
    "\t\tmain -y  i    # the way for smapling                   need xmd.rst\n",
    "\t\tmain -m  i    # from new/old steps (i=0/i=1)           need xmd.rst\n",
    "\t\tmain -e  i    # set mode (i=0/i=1)                     need -x e/n\n",
    "\t\tmain -r  *    # alternative for xmd.rst                need -x r\n",
    "\t\tmain -s  *    # alternative for xmd.smp                need -x s\n",
    "\t\tmain -l  *    # alternative for xmd.lst                need -x f\n",
    "\t\tmain -sn n    # sample from a n-th of xmd.smp/xmd.lst  need -x s\n",
    "\t\tmain -p  *    # alternative for putrc_file\n",
    "\t\tmain -c  *    # alternative for cnfgrc_file\n",
    "\t\tmain -o  *    # namefor out_file\n",
    "\t\tmain -a  *    # namefor ana_file\n",
    "```"
   ]
  },
  {
   "cell_type": "markdown",
   "metadata": {},
   "source": [
    "## 2. Parameter files\n",
    " * put.rc  \n",
    " The file contains arguments handling molecule dynamics simulation, all should in Atom Unit\n",
    "\n",
    "| name  | implement                       |  notes                     |\n",
    "|-------|---------------------------------|----------------------------|\n",
    "|temp\t| temperature                     | \\[a.u.\\]                   |\n",
    "|cfreq\t| characteristic frequency        | related to spectrum data   |\n",
    "|coeff\t| coeffienct of friction/collide  | (OPT)                      |\n",
    "|gamma  | adiabatic coefficienet of PILD  | (OPT)                      |\n",
    "|nstep\t| steps of a trajectory           | (OPT)                      |\n",
    "|nsamp\t| intervals for sampling          | avoid correlation          |\n",
    "|pimd\t| transform method                | primitive, stag, NM        |\n",
    "|scheme\t| thermostat scheme               | middle, end, side          |\n",
    "|thermo\t| thermostat method               | Langevin, Andersen, NHC    |\n",
    "|vir\t| virtual/real dynamics           | (default 0)                |\n",
    "|opt\t| optimization for arguments      | (default 0)                |\n",
    "|bead\t| the bead of PIMD/PILD           | bead=1; bead=2N, PIMD/PILD |\n",
    "|dtime\t| the time interval for each step | (OPT)                      |\n",
    "\n",
    "* cnfg.rc  \n",
    "This is the initial input information of mass and positions of given atoms to build the molecule object.  \n",
    "An example file is as following, N is the number of atoms, and M is the dimension of space (=1,2,3)\n",
    "```\n",
    "\t!system-name    N       M\n",
    "\tA1     mass1    A1x1    ...     A1xM\n",
    "\tA2     mass2    A2x1    ...     A2xM\n",
    "\t...    ...      ...     ...     ...\n",
    "\tAN     massN    ANx1    ...     ANxM\n",
    "```\n",
    "\n",
    "* info.now  \n",
    "This is the file record some information of simulation or analysis of the current directory.  \n",
    "(mainly used by matplotlib)  \n",
    "If you carry out a simulation under a new directory, you'd better carefully edit information of info.now.  \n"
   ]
  },
  {
   "cell_type": "markdown",
   "metadata": {},
   "source": [
    "## 3. Programming structure\n",
    "### 3.1 Sub-projects  \n",
    "the XMD project contains several subproject, for different functions.  \n",
    " * MD1  \n",
    "This is the one-dimensional OOP (Object Orient Programming) molecular dynamics simulation program.  \n",
    " * MDX  \n",
    "This is the multi-dimensional OOP molecular dynamics simulation program. (whose dimension is decided from `cnfg.rc` file)  \n",
    " * MDI  \n",
    "The vector version of MD1, removing OOP feature!  \n",
    " * MDV  \n",
    "The vector version of MDX, removing OOP feature!  \n",
    " * MD3H2O  \n",
    "The version do with the spectroscropy of H2O.  \n",
    " * sPIMD/sPILD  \n",
    "The simple version of PIMD/PILD, with only 1-dimensional staging transform method and Langevin thermostat. All codes are written in a single file. (but they are fast than MD1 \\[about 3 times\\] )"
   ]
  },
  {
   "cell_type": "markdown",
   "metadata": {},
   "source": [
    "### 3.2 File structures\n",
    "Here contains fortran files and python files. Fortran files mainly run molecular dynamics and output the result, meanwhile the python files mainly process the analyze the result, and plot figures.  \n",
    "* #### MyDef.f90  \n",
    "provide global definitions, contains:  \n",
    "> 1. defines precision: __sp, dp, len0, len1, len2, len3__ \n",
    "> 2. defines mathematics constant: __pi, twopi, pi2. sqrtpi, e__\n",
    "> 3. defines physics constant: __hb, kb, au\\_m, au\\_e, au\\_hb, au\\_ke, au\\_c, au\\_a0, au\\_eh, au\\_t, au\\_temp, au\\_kb, au\\_beta__  \n",
    "> 4. defines IO setting: __out\\_unit, ana\\_unit, out\\_file, ana\\_file, putrc\\_file, cnfgrc\\_file, rst\\_file, smp\\-file, lst\\_file__  \n",
    "> 5. defines sharing valuables: __my\\_iostat, my\\_exist, rand\\_throw__  \n",
    "> 6 defines public routines; __init\\_seed, random\\_norm, send\\_err__\n",
    "\n",
    "* #### AM\\_script.f90  \n",
    "One should note, the OOP may slow down the procedure, which may be not good.  \n",
    "Note, the program doesn't use OOP properly. This can be improved better (e.g. inheit)\n",
    "> 1. defines elemental list  \n",
    "> 2. defines atom  \n",
    "> 3. defines mole (molecular object)\n",
    "\n",
    "* #### md\\_info.f90  \n",
    "* #### md\\_rout.f90  \n",
    "* #### main.f90  \n",
    "* #### dynamic\\_stat.f90  \n",
    "* #### pimd\\_plus.f90  \n",
    "* #### thermo\\_plus.f90  \n",
    "* #### restrc\\_plus.f90  \n",
    "* #### elim\\_plus.f90  "
   ]
  },
  {
   "cell_type": "markdown",
   "metadata": {},
   "source": [
    "### 3.3 Python scripts  \n",
    "(All scripts are under `./py` directory)  \n",
    "* #### setinfo.py  \n",
    "set simulation information, read from __pur.rc, cnfg.rc, info.now__. (so it needs info.now under the current directory)\n",
    "* #### rvs.py  \n",
    "revise the value of a parameter in a file, use as:  \n",
    "__`python3 $XMD/py/rvs.py [file] [key] [new-value]`__   \n",
    "* #### stat.py  \n",
    "For plotting histogram of n-th column of xxx file. You can use as:  \n",
    "__`python3 $XMD/py/stat.py [file] [number] [N/Y]`__  \n",
    "when using __Y__, the figure would plot in terminal, otherwise will be silent .\n",
    "* #### cct.py\n",
    "For calculating correlation time function of n-th column of xxx file. You can use as:  \n",
    "__`python3 $XMD/py/cct.py [file] [number] [N/Y]`__       \n",
    "when using __Y__, the figure would plot in terminal, otherwise will be silent .  \n",
    "* #### cctpild.py  \n",
    "use for pild for characteristic correlation function.  \n",
    "* #### fft.py  \n",
    "Fast Fourier Transfrom of CCT  \n",
    "* #### IR.py  \n",
    "IR spectroscropy calculation, almost same to __fft.py__"
   ]
  },
  {
   "cell_type": "markdown",
   "metadata": {},
   "source": [
    "## 4. Nomination principle  "
   ]
  },
  {
   "cell_type": "markdown",
   "metadata": {},
   "source": [
    "## 5. Performance and bugs\n",
    "### 5.1 Performance  \n",
    "* MD1 and MDI do well, ( pattern `main -y 0` ) faster 10 times than ( pattern `main -y 1` ). But sPIMD still faster 3 times than MD1/MDI.  \n",
    "* sPIMD/sPILD do well, for thermostat fix the mass bugs.  \n",
    "\n",
    "### 5.2 Bugs\n",
    "* virial estimitor need to test.\n",
    "* MDX/MDV version, many-body interaction consideration.\n",
    "* PILD under testing.  \n",
    "* estimite the thermal frequency of the system.  \n",
    "* MD3H2O, the trajectory be confused, need elimination of transition and rotation properly.  "
   ]
  },
  {
   "cell_type": "markdown",
   "metadata": {},
   "source": [
    "## 6. Future task\n",
    "- [ ] to improve the OPP version, mainly MD1 and MDX  \n",
    "- [ ] to improve the vector version, mainly MDI and MDV, now they even are not better than MD1/MDX.  \n",
    "- [ ] to think about the multi-PILD whether can be realized?  \n",
    "- [ ] to fix the bug of MD3H2O, and get the IR spectrosecopy of H2O.  \n",
    "- [ ] to add interface to VMD."
   ]
  },
  {
   "cell_type": "code",
   "execution_count": null,
   "metadata": {},
   "outputs": [],
   "source": []
  }
 ],
 "metadata": {
  "kernelspec": {
   "display_name": "Python 3",
   "language": "python",
   "name": "python3"
  },
  "language_info": {
   "codemirror_mode": {
    "name": "ipython",
    "version": 3
   },
   "file_extension": ".py",
   "mimetype": "text/x-python",
   "name": "python",
   "nbconvert_exporter": "python",
   "pygments_lexer": "ipython3",
   "version": "3.6.4"
  }
 },
 "nbformat": 4,
 "nbformat_minor": 2
}
